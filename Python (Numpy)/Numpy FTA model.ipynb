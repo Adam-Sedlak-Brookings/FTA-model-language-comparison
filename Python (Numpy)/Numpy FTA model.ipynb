{
 "cells": [
  {
   "cell_type": "markdown",
   "id": "4ff92f13",
   "metadata": {},
   "source": [
    "# Follow the Average Numpy Model\n",
    "\n",
    "## Overview\n",
    "The following code implements a FTA model, as developed by Hammond and Ornstein. Unlike most ABMs, this code abandons the use of class structures (to organize agents, environments, update rules, etc...) and instead uses matrices to perform an algorithmic reduction of the FTA computation. By solely using matrices this implementation is able to achieve high performance by sourcing all computationally expensive operations to the `numpy` library which is written in C.\n",
    "\n",
    "## The Math\n",
    "Let's start representing all agents BMIs in a vector (denoted as $\\textbf{b}$, for BMI) where the i-th element in the vector is the i-th agent's BMI. We will also represent the network connections between agents with an [adjacency matrix](https://en.wikipedia.org/wiki/Adjacency_matrix) (denoted as $\\textbf{A}$, for adjacency). For every step of the model we will want to calculate the average BMI of each agent's neighbors. To do so, consider what happens when we matrix multiply $\\textbf{b}$ with $\\textbf{A}$:\n",
    "\n",
    "$$ \\textbf{b}^T \\textbf{A} = [\\textbf{b} \\cdot \\textbf{A}_{*1}, ...,  \\textbf{b} \\cdot \\textbf{A}_{*n}]$$\n",
    "\n",
    "Here $\\textbf{A}_{*i}$ is the i-th row (or column, because the network is undirected) of $\\textbf{A}$. Then the i-th element of the resulting vector is:\n",
    "\n",
    "$$(\\textbf{b}^T \\textbf{A})_i = \\Sigma _{j=1} \\textbf{b}_j \\cdot \\textbf{A}_{ij}$$\n",
    "\n",
    "If we look closely at this it is actually just the sum of all neighbors BMIs for the i-th agent! So all we have to do is divide by the number of neighbors for agent i to get the average. Finding the number of neighbors for any i-th agent can easily be found by summing either the rows or columns of $\\textbf{A}$ to get a vector (denoted as $\\textbf{c}$, for count) of the number of neighbors connected to each agent. So the mean BMI of each agents neighbors (denoted as $\\overline{\\textbf{b}}$) can be calculated as follows:\n",
    "\n",
    "$$\\overline{\\textbf{b}} = \\frac{\\textbf{b}^T \\textbf{A}}{\\textbf{c}}$$\n",
    "\n",
    "In fact we can do even better! Ultimately we want to calculate the difference between an agents own BMI and the mean of its neighbors ($\\boldsymbol{\\delta}=\\overline{\\textbf{b}} - \\textbf{b})$. If we subtract the identity matrix from $\\textbf{A}$ before taking the dot product with $\\textbf{b}$ we will subtract each agent's BMI from the mean implicitly. Then\n",
    "\n",
    "$$\\boldsymbol{\\delta} = \\textbf{b}^T \\cdot (\\frac{\\textbf{A}}{\\textbf{c}} - \\textbf{I})$$\n",
    "\n",
    "We can simplify some of this computation by precomputing an $\\boldsymbol{\\tilde{A}} = \\frac{\\textbf{A}}{\\textbf{c}} - \\textbf{I}$ so that we don't have to recompute this fraction every update.\n",
    "\n",
    "$$\\boldsymbol{\\delta} = \\textbf{b}^T \\boldsymbol{\\tilde{A}}$$\n",
    "\n",
    "## The Algorithm\n",
    "So how does this help us achieve a higher performance model? Well this does involve a small simplifying assumption to the agent update scheduler from *random serially* to one in which is that all agents update their BMI *at the same time* (like Conway's Game of Life). We will return to the effects of this change later.\n",
    "\n",
    "Now we can run an algorithm very similar to gradient descent which in pseudo code looks like the following:\n",
    "\n",
    "```\n",
    "begin\n",
    "\t// Initializing variables\n",
    "\tA ⟵ WattsStrogatz(n, k, p)\n",
    "\tb ⟵ Gamma(α, β, n)\n",
    "\tc ⟵ sum(A, axis=1)\n",
    "\tI ⟵ Identity(n)\n",
    "\n",
    "\t// Turning A into A tilde\n",
    "\tA ⟵ A / c - I\n",
    "\n",
    "\t// FTA update to BMIs\n",
    "\tfor _ ∈ 0:ticks\n",
    "    \t// Compute δ\n",
    "    \tδ ⟵ b.T * A\n",
    "    \t// Change δ to be within satisficing radius\n",
    "    \tδ ⟵ (abs(δ) < 0) ? 0 : sign(δ) * min(abs(δ), 0.1)\n",
    "    \t// Update BMIs\n",
    "    \tb += δ  \n",
    "\tend\n",
    "end\n",
    "```\n",
    "\n",
    "And that's it! The entire FTA model in less than 10 lines of code! This is implemented below in `run_model_gd`\n"
   ]
  },
  {
   "cell_type": "code",
   "execution_count": 1,
   "id": "7e87310d",
   "metadata": {},
   "outputs": [],
   "source": [
    "import matplotlib.pyplot as plt\n",
    "import random\n",
    "import networkx as nx\n",
    "import numpy as np"
   ]
  },
  {
   "cell_type": "code",
   "execution_count": 2,
   "id": "89c4f075",
   "metadata": {},
   "outputs": [],
   "source": [
    "def run_model_gd(ticks=200, n=100, rewire_prob=0.1, radius=0.1, alpha=3, beta=0.25, mean_degree=4, \n",
    "              seed_bmi=None, seed_graph=None):\n",
    "    \"\"\"\n",
    "    Creates and runs a FTA model with the given parameters and ticks. NOTE: The update rule\n",
    "        for the model is a snapshot update, all agents change their BMIs at the same time.\n",
    "    \n",
    "        ticks: number of ticks to run the model for\n",
    "        n: The number of agent\n",
    "        rewire_prob: The probability of reqiring a node connection when \n",
    "                     initializing the Watts-Strogatz graph\n",
    "        radius: The satisficing radius\n",
    "        alpha: Gamma shape parameter for initializing agents BMI\n",
    "        beta: Gamma parameterfor initializing agents BMI\n",
    "        mean_degree: Number of initial neighbors each agent starts with\n",
    "    \"\"\"\n",
    "    # Model random number generator\n",
    "    rng=np.random.default_rng(seed_bmi)\n",
    "    # Create an array of N agent BMIs drawn from a ~15+Gamma(alpha, beta) distribution\n",
    "    b = 15 + rng.gamma(alpha, 1/beta, n)\n",
    "    # Create the adjacency matrix for the agents\n",
    "    # Note: For large N (i.e., mean_degree/N < 0.01), sparse arrays are more efficient\n",
    "    A = nx.to_numpy_array(nx.watts_strogatz_graph(n, mean_degree, rewire_prob, seed=seed_graph))\n",
    "    # An array of the mean BMIs over time\n",
    "    mean_bmi = np.zeros(ticks)\n",
    "    # Setting up matrix A to take the mean of neighbors and then the difference between \n",
    "    # each agent and its neighbors\n",
    "    A = (A / np.sum(A, axis=0)) - np.identity(n)\n",
    "    \n",
    "    for i in range(ticks):\n",
    "        # Save the current mean BMI of all agents\n",
    "        mean_bmi[i] = np.mean(b)\n",
    "        # Compute the mean BMI of each agents neighbors\n",
    "        delta = A @ b\n",
    "        # Update the agents BMI according to the following rules\n",
    "        #    (1) If the magintue of delta is less than the radius, don't \n",
    "        #        update the BMI (i.e., b += 0).\n",
    "        #    (2) Otherwise move the agents BMI towards the mean BMI by a step\n",
    "        #        size of 0.1 or delta, whichever is smaller (i.e., b += sign(delta) * min(delta, 0.1))\n",
    "        b += np.where(abs(delta) < radius, 0, np.sign(delta)*np.minimum(abs(delta), 0.1))\n",
    "        \n",
    "    return mean_bmi"
   ]
  },
  {
   "cell_type": "code",
   "execution_count": 3,
   "id": "3dfa920d",
   "metadata": {},
   "outputs": [
    {
     "name": "stdout",
     "output_type": "stream",
     "text": [
      "9.99 ms ± 1.23 ms per loop (mean ± std. dev. of 7 runs, 100 loops each)\n"
     ]
    }
   ],
   "source": [
    "%%timeit\n",
    "run_model_gd(200)"
   ]
  },
  {
   "cell_type": "markdown",
   "id": "b383d017",
   "metadata": {},
   "source": [
    "**And the model performance is lightning fast!**\n",
    "\n",
    "## Effect of Update Scheduler\n",
    "It's worth revisiting whether the uniform update schedule impacts the model results. Initial intuition should tell us that at a minimum the model will lose some stochasticity because the path to equilibrium for any set of initial conditions is now fixed.\n",
    "\n",
    "To explore this the idea further let's draw on the idea of [\"mini-batch\"](https://www.baeldung.com/cs/gradient-stochastic-and-mini-batch) to examine the effect of different sized updates sets (e.g., what happens to the model output if we had two serial updates each comprising of 50 randomly selected agents). The function `run_model` performs the same algorithm outlined above but the agent set can be split into between $1$ and $n$ mini-batches that will update simultaneously (i.e., when `n_minibatch=n` the algorithm will perform the original FTA model with a random serial update schedule).\n",
    "\n",
    "Note: Splitting up the agent set into a large number of sets is much slower so an additional function `run_model_stocastic` was added for the extreme case where `n_minibatch=n` (see Extra Time Tests for more info).\n"
   ]
  },
  {
   "cell_type": "code",
   "execution_count": 4,
   "id": "6581dfdf",
   "metadata": {},
   "outputs": [],
   "source": [
    "def run_model(ticks=200, n=100, rewire_prob=0.1, radius=0.1, alpha=3, beta=0.25, mean_degree=4, \n",
    "              seed_bmi=None, seed_graph=None, n_minibatch=1):\n",
    "    \"\"\"\n",
    "    Creates and runs a FTA model with the given parameters and ticks. \n",
    "    \n",
    "        ticks: number of ticks to run the model for\n",
    "        n: The number of agent\n",
    "        rewire_prob: The probability of reqiring a node connection when \n",
    "                     initializing the Watts-Strogatz graph\n",
    "        radius: The satisficing radius\n",
    "        alpha: Gamma shape parameter for initializing agents BMI\n",
    "        beta: Gamma parameterfor initializing agents BMI\n",
    "        mean_degree: Number of initial neighbors each agent starts with\n",
    "        seed_bmi: Seed to set the agent BMIs\n",
    "        seed_graph: Seed to set the graph connections\n",
    "        n_minibatch: Number of mini-batches to run. n_minibatch=n is the original ABM, n=1 is a snapshot update\n",
    "    \"\"\"\n",
    "    # Model random number generator\n",
    "    rng=np.random.default_rng(seed_bmi)\n",
    "    # Create an array of N agent BMIs drawn from a ~15+Gamma(alpha, beta) distribution\n",
    "    b = 15 + rng.gamma(alpha, 1/beta, n)\n",
    "    # Create the adjecency matrix for the agents\n",
    "    # Note: For large N (i.e., mean_degree/N < 0.01), sparse arrays are more effecient\n",
    "    A = nx.to_numpy_array(nx.watts_strogatz_graph(n, mean_degree, rewire_prob, seed=seed_graph))\n",
    "    # An array of the mean BMIs over time\n",
    "    mean_bmi = np.zeros(ticks)\n",
    "    # Array of agent indices to activate \n",
    "    indices = np.arange(n)\n",
    "    \n",
    "    for i in range(ticks):\n",
    "        # Save the current mean BMI of all agents\n",
    "        mean_bmi[i] = np.mean(b)\n",
    "        # Suffle the activation indicies\n",
    "        random.shuffle(indices)\n",
    "\n",
    "        for batch in np.split(indices, n_minibatch):\n",
    "            # Mini-batch adjecency matrix\n",
    "            A_mini = A[batch]\n",
    "            # Compute the mean BMI of each agents neighbors\n",
    "            b_mean = (A_mini @ b) / np.sum(A_mini, axis=1)\n",
    "            # The difference between each agents BMI and its neighbors BMIs\n",
    "            delta = b_mean - b[batch]\n",
    "            \n",
    "            # Update the agents BMI according to the following rules\n",
    "            #    (1) If the magintue of delta is less than the radius, don't \n",
    "            #        update the BMI (i.e., b += 0).\n",
    "            #    (2) Otherwise move the agents BMI towards the mean BMI by a step\n",
    "            #        size of 0.1 or delta, whichever is smaller (i.e., b += sign(delta) * min(delta, 0.1))\n",
    "            b[batch] += np.where(abs(delta) < radius, 0, np.sign(delta)*np.minimum(abs(delta), 0.1))\n",
    "    \n",
    "    return mean_bmi"
   ]
  },
  {
   "cell_type": "code",
   "execution_count": 5,
   "id": "21c7f490",
   "metadata": {},
   "outputs": [],
   "source": [
    "def run_model_stocastic(ticks=200, n=100, rewire_prob=0.1, radius=0.1, alpha=3, beta=0.25, mean_degree=4, \n",
    "              seed_bmi=None, seed_graph=None):\n",
    "    \"\"\"\n",
    "    Creates and runs a FTA model with the given parameters and ticks. NOTE: The update rule\n",
    "        for the model is a stocastic (i.e., batch size = 1). This is equivelent to the original\n",
    "        model.\n",
    "    \n",
    "        ticks: number of ticks to run the model for\n",
    "        n: The number of agent\n",
    "        rewire_prob: The probability of reqiring a node connection when \n",
    "                     initializing the Watts-Strogatz graph\n",
    "        radius: The satisficing radius\n",
    "        alpha: Gamma shape parameter for initializing agents BMI\n",
    "        beta: Gamma parameterfor initializing agents BMI\n",
    "        mean_degree: Number of initial neighbors each agent starts with\n",
    "    \"\"\"\n",
    "    # Model random number generator\n",
    "    rng=np.random.default_rng(seed_bmi)\n",
    "\n",
    "    # Create an array of N agent BMIs drawn from a ~15+Gamma(alpha, beta) distribution\n",
    "    b = 15 + rng.gamma(alpha, 1/beta, n)\n",
    "    # Create the adjecency matrix for the agents\n",
    "    A = nx.to_numpy_array(nx.watts_strogatz_graph(n, mean_degree, rewire_prob, seed=seed_graph))\n",
    "    # An array of the mean BMIs over time\n",
    "    mean_bmi = np.zeros(ticks)\n",
    "    # Array of agent indices to activate \n",
    "    indices = np.arange(n)\n",
    "    \n",
    "    for i in range(ticks):\n",
    "        # Save the current mean BMI of all agents\n",
    "        mean_bmi[i] = np.mean(b)\n",
    "        # Suffle the agent activation indices, this RNG is NOT seeded\n",
    "        random.shuffle(indices)\n",
    "        \n",
    "        for j in indices:\n",
    "            # Compute the mean BMI of each agents neighbors\n",
    "            b_mean = (A[:, j] @ b) / np.sum(A[:,j])\n",
    "            # The difference between each agents BMI and its neighbors BMIs\n",
    "            delta = b_mean - b[j]\n",
    "            # Update the agents BMI according to the following rules\n",
    "            #    (1) If the magintue of delta is less than the radius, don't \n",
    "            #        update the BMI (i.e., b += 0).\n",
    "            #    (2) Otherwise move the agents BMI towards the mean BMI by a step\n",
    "            #        size of 0.1 or delta, whichever is smaller (i.e., b += sign(delta) * min(delta, 0.1))\n",
    "            b[j] += 0 if abs(delta) < radius else np.sign(delta)*min(abs(delta), 0.1)\n",
    "            \n",
    "    return mean_bmi"
   ]
  },
  {
   "cell_type": "markdown",
   "id": "9d47bf17",
   "metadata": {},
   "source": [
    "## Tests\n",
    "\n",
    "Comparing the uniform update FTA model to $20$ different stochastic FTA models with different random update schedules (with the same initial network and agent BMIs). The only thing that is changing is how agent BMIs are updated.\n",
    "\n",
    "The results are quite similar but slightly different."
   ]
  },
  {
   "cell_type": "code",
   "execution_count": 19,
   "id": "d642ecd3",
   "metadata": {},
   "outputs": [
    {
     "data": {
      "image/png": "[encoded data removed]",
      "text/plain": [
       "<Figure size 432x288 with 1 Axes>"
      ]
     },
     "metadata": {
      "needs_background": "light"
     },
     "output_type": "display_data"
    }
   ],
   "source": [
    "seed=123\n",
    "plt.plot(run_model_gd(ticks=200, seed_bmi=seed, seed_graph=seed), color=\"red\", lw=4)\n",
    "\n",
    "for i in range(20):\n",
    "    plt.plot(run_model_stocastic(ticks=200, seed_bmi=seed, seed_graph=seed))"
   ]
  },
  {
   "cell_type": "markdown",
   "id": "46683555",
   "metadata": {},
   "source": [
    "Below is a similar experiment but comparing the uniform update FTA model to $20$ different stochastic FTA models with ten batches of ten agents.\n",
    "\n",
    "This has added back in a similar amount of model variance as we see with the original random serial model."
   ]
  },
  {
   "cell_type": "code",
   "execution_count": 17,
   "id": "2d2da4e7",
   "metadata": {},
   "outputs": [
    {
     "data": {
      "image/png": "[encoded data removed]",
      "text/plain": [
       "<Figure size 432x288 with 1 Axes>"
      ]
     },
     "metadata": {
      "needs_background": "light"
     },
     "output_type": "display_data"
    }
   ],
   "source": [
    "seed=42\n",
    "plt.plot(run_model_stocastic(ticks=200, seed_bmi=seed, seed_graph=seed), color=\"black\", lw=4)\n",
    "plt.plot(run_model_gd(ticks=200, seed_bmi=seed, seed_graph=seed), color=\"red\", lw=4)\n",
    "\n",
    "for i in range(20):\n",
    "    plt.plot(run_model(ticks=200, seed_bmi=seed, seed_graph=seed, n_minibatch=10))"
   ]
  },
  {
   "cell_type": "markdown",
   "id": "69bd92f8",
   "metadata": {},
   "source": [
    "Even with larger batches (of $20$ agents) the model performs well!"
   ]
  },
  {
   "cell_type": "code",
   "execution_count": 20,
   "id": "a2c84c47",
   "metadata": {},
   "outputs": [
    {
     "data": {
      "image/png": "[encoded data removed]",
      "text/plain": [
       "<Figure size 432x288 with 1 Axes>"
      ]
     },
     "metadata": {
      "needs_background": "light"
     },
     "output_type": "display_data"
    }
   ],
   "source": [
    "seed=87539319\n",
    "plt.plot(run_model_stocastic(ticks=200, seed_bmi=seed, seed_graph=seed), color=\"black\", lw=4)\n",
    "plt.plot(run_model_gd(ticks=200, seed_bmi=seed, seed_graph=seed), color=\"red\", lw=4)\n",
    "\n",
    "for i in range(20):\n",
    "    plt.plot(run_model(ticks=200, seed_bmi=seed, seed_graph=seed, n_minibatch=1))"
   ]
  },
  {
   "cell_type": "markdown",
   "id": "5df99847",
   "metadata": {},
   "source": [
    "## Extra Time Tests"
   ]
  },
  {
   "cell_type": "code",
   "execution_count": 12,
   "id": "cc27479a",
   "metadata": {},
   "outputs": [
    {
     "name": "stdout",
     "output_type": "stream",
     "text": [
      "13.3 ms ± 706 µs per loop (mean ± std. dev. of 7 runs, 100 loops each)\n"
     ]
    }
   ],
   "source": [
    "%%timeit\n",
    "run_model_gd(200)"
   ]
  },
  {
   "cell_type": "code",
   "execution_count": 169,
   "id": "391c21a4",
   "metadata": {},
   "outputs": [
    {
     "name": "stdout",
     "output_type": "stream",
     "text": [
      "69.5 ms ± 7.24 ms per loop (mean ± std. dev. of 7 runs, 10 loops each)\n"
     ]
    }
   ],
   "source": [
    "%%timeit\n",
    "run_model()"
   ]
  },
  {
   "cell_type": "code",
   "execution_count": 109,
   "id": "ad27af3a",
   "metadata": {},
   "outputs": [
    {
     "name": "stdout",
     "output_type": "stream",
     "text": [
      "317 ms ± 22.8 ms per loop (mean ± std. dev. of 7 runs, 1 loop each)\n"
     ]
    }
   ],
   "source": [
    "%%timeit\n",
    "run_model_stocastic(200)"
   ]
  },
  {
   "cell_type": "code",
   "execution_count": 170,
   "id": "caeb168b",
   "metadata": {},
   "outputs": [
    {
     "name": "stdout",
     "output_type": "stream",
     "text": [
      "915 ms ± 87 ms per loop (mean ± std. dev. of 7 runs, 1 loop each)\n"
     ]
    }
   ],
   "source": [
    "%%timeit\n",
    "run_model(n_minibatch=100)"
   ]
  },
  {
   "cell_type": "code",
   "execution_count": null,
   "id": "5b3393d0",
   "metadata": {},
   "outputs": [],
   "source": []
  }
 ],
 "metadata": {
  "kernelspec": {
   "display_name": "Python 3 (ipykernel)",
   "language": "python",
   "name": "python3"
  },
  "language_info": {
   "codemirror_mode": {
    "name": "ipython",
    "version": 3
   },
   "file_extension": ".py",
   "mimetype": "text/x-python",
   "name": "python",
   "nbconvert_exporter": "python",
   "pygments_lexer": "ipython3",
   "version": "3.7.13"
  }
 },
 "nbformat": 4,
 "nbformat_minor": 5
}
